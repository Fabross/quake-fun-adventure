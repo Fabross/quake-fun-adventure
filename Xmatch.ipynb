{
 "cells": [
  {
   "cell_type": "markdown",
   "metadata": {},
   "source": [
    "## Proyecto de minería de datos 2019-1: fase 2 - Obtención de terremotos y cruce con tsunamis"
   ]
  },
  {
   "cell_type": "markdown",
   "metadata": {},
   "source": [
    "- Instalación de biblioteca COMCAT: https://github.com/usgs/libcomcat\n",
    "\n",
    "- Documentación: http://usgs.github.io/libcomcat/apidoc/libcomcat.search.html"
   ]
  },
  {
   "cell_type": "code",
   "execution_count": 170,
   "metadata": {},
   "outputs": [],
   "source": [
    "from libcomcat.search import search,count,get_event_by_id\n",
    "import datetime\n",
    "import os.path\n",
    "import pandas as pd\n",
    "import numpy as np\n"
   ]
  },
  {
   "cell_type": "code",
   "execution_count": 172,
   "metadata": {
    "scrolled": true
   },
   "outputs": [
    {
     "name": "stdout",
     "output_type": "stream",
     "text": [
      "<class 'pandas.core.frame.DataFrame'>\n",
      "RangeIndex: 537 entries, 0 to 536\n",
      "Data columns (total 13 columns):\n",
      "YEAR                 537 non-null int64\n",
      "MONTH                537 non-null int64\n",
      "DAY                  537 non-null int64\n",
      "HOUR                 537 non-null int64\n",
      "MINUTE               536 non-null float64\n",
      "SECOND               498 non-null float64\n",
      "CAUSE_CODE           537 non-null float64\n",
      "FOCAL_DEPTH          537 non-null float64\n",
      "LATITUDE             537 non-null object\n",
      "LONGITUDE            537 non-null object\n",
      "PRIMARY_MAGNITUDE    537 non-null float64\n",
      "COUNTRY              537 non-null object\n",
      "EVENT_VALIDITY       537 non-null int64\n",
      "dtypes: float64(5), int64(5), object(3)\n",
      "memory usage: 54.7+ KB\n"
     ]
    }
   ],
   "source": [
    "data = pd.read_csv('tsunamidf.csv').astype({'MONTH': 'int64', 'DAY': 'int64', 'HOUR': 'int64'})\n",
    "data.info()"
   ]
  },
  {
   "cell_type": "markdown",
   "metadata": {},
   "source": [
    "Criterios de busqueda:\n",
    "- Se busca en base a la fecha del tsunami, considerando hasta la hora en que ocurrió, con un margen de error de +-1 hora. Esto puede arrojar mas de un terremoto asociado a un tsunami, lo cual no deja de ser interesante de analizar.\n",
    "\n",
    "- Se utiliza la magnitud minima."
   ]
  },
  {
   "cell_type": "code",
   "execution_count": 155,
   "metadata": {
    "scrolled": true
   },
   "outputs": [
    {
     "data": {
      "text/plain": [
       "224"
      ]
     },
     "metadata": {},
     "output_type": "display_data"
    },
    {
     "data": {
      "text/plain": [
       "294"
      ]
     },
     "metadata": {},
     "output_type": "display_data"
    },
    {
     "data": {
      "text/plain": [
       "298"
      ]
     },
     "metadata": {},
     "output_type": "display_data"
    },
    {
     "data": {
      "text/plain": [
       "322"
      ]
     },
     "metadata": {},
     "output_type": "display_data"
    },
    {
     "data": {
      "text/plain": [
       "352"
      ]
     },
     "metadata": {},
     "output_type": "display_data"
    },
    {
     "data": {
      "text/plain": [
       "410"
      ]
     },
     "metadata": {},
     "output_type": "display_data"
    },
    {
     "data": {
      "text/plain": [
       "437"
      ]
     },
     "metadata": {},
     "output_type": "display_data"
    },
    {
     "data": {
      "text/plain": [
       "442"
      ]
     },
     "metadata": {},
     "output_type": "display_data"
    }
   ],
   "source": [
    "def X_matching(data):\n",
    "    query = -1\n",
    "    flag = 1\n",
    "    for idx,row in data.iterrows():\n",
    "        date = datetime.datetime(row['YEAR'],row['MONTH'],row['DAY'],int(row['HOUR']))\n",
    "        time_str = str(date.year)+'-'+str(date.month)+'-'+str(date.day)\n",
    "        eventlist = search(starttime=date-datetime.timedelta(hours=1),\n",
    "                           endtime=date+datetime.timedelta(hours=1),\n",
    "                           minmagnitude=row['PRIMARY_MAGNITUDE'])\n",
    "        if len(eventlist)==0:\n",
    "            continue\n",
    "        else:\n",
    "            for event in eventlist:\n",
    "                depth = event.depth\n",
    "                mag = event['mag']\n",
    "                gap = event['gap']\n",
    "                magType = event['magType']\n",
    "                dmin = event['dmin']\n",
    "                rms = event['rms']\n",
    "                place = event['place']\n",
    "                long = event.longitude\n",
    "                lat = event.latitude\n",
    "                time = event.time\n",
    "                if flag:\n",
    "                    query = np.array([[time, lat, long, depth, gap, mag, magType, dmin, rms, place, 1, idx]])\n",
    "                    flag=0\n",
    "                else:\n",
    "                    row = np.array([[time, lat, long, depth, gap, mag, magType, dmin, rms, place, 1, idx]])\n",
    "                    query = np.append(query, row, axis=0)\n",
    "    if type(query) != int:\n",
    "        columns=['DATE','LATITUDE','LONGITUDE','DEPTH','GAP','MAGNITUDE',\n",
    "                 'MAGTYPE','DMIN','RMS','PLACE','TSUNAMI', 'IDX']\n",
    "        query = pd.DataFrame(query,columns=columns)\n",
    "    return query\n",
    "matched = X_matching(data)"
   ]
  },
  {
   "cell_type": "markdown",
   "metadata": {},
   "source": [
    "#### Tsunamis con ocurrencias de más de 1 terremoto en la hora."
   ]
  },
  {
   "cell_type": "code",
   "execution_count": 167,
   "metadata": {
    "scrolled": true
   },
   "outputs": [
    {
     "data": {
      "text/html": [
       "<div>\n",
       "<style scoped>\n",
       "    .dataframe tbody tr th:only-of-type {\n",
       "        vertical-align: middle;\n",
       "    }\n",
       "\n",
       "    .dataframe tbody tr th {\n",
       "        vertical-align: top;\n",
       "    }\n",
       "\n",
       "    .dataframe thead th {\n",
       "        text-align: right;\n",
       "    }\n",
       "</style>\n",
       "<table border=\"1\" class=\"dataframe\">\n",
       "  <thead>\n",
       "    <tr style=\"text-align: right;\">\n",
       "      <th></th>\n",
       "      <th>DATE</th>\n",
       "      <th>LATITUDE</th>\n",
       "      <th>LONGITUDE</th>\n",
       "      <th>DEPTH</th>\n",
       "      <th>GAP</th>\n",
       "      <th>MAGNITUDE</th>\n",
       "      <th>MAGTYPE</th>\n",
       "      <th>DMIN</th>\n",
       "      <th>RMS</th>\n",
       "      <th>PLACE</th>\n",
       "      <th>TSUNAMI</th>\n",
       "      <th>IDX</th>\n",
       "    </tr>\n",
       "  </thead>\n",
       "  <tbody>\n",
       "    <tr>\n",
       "      <td>125</td>\n",
       "      <td>1977-04-20 23:42:50.500</td>\n",
       "      <td>-9.89</td>\n",
       "      <td>160.348</td>\n",
       "      <td>19</td>\n",
       "      <td>None</td>\n",
       "      <td>7.5</td>\n",
       "      <td>ms</td>\n",
       "      <td>None</td>\n",
       "      <td>None</td>\n",
       "      <td>Solomon Islands</td>\n",
       "      <td>1</td>\n",
       "      <td>224</td>\n",
       "    </tr>\n",
       "    <tr>\n",
       "      <td>126</td>\n",
       "      <td>1977-04-20 23:49:13.100</td>\n",
       "      <td>-9.844</td>\n",
       "      <td>160.822</td>\n",
       "      <td>33</td>\n",
       "      <td>None</td>\n",
       "      <td>7.5</td>\n",
       "      <td>ms</td>\n",
       "      <td>None</td>\n",
       "      <td>None</td>\n",
       "      <td>Solomon Islands</td>\n",
       "      <td>1</td>\n",
       "      <td>224</td>\n",
       "    </tr>\n",
       "    <tr>\n",
       "      <td>174</td>\n",
       "      <td>1990-02-08 07:15:32.230</td>\n",
       "      <td>9.755</td>\n",
       "      <td>124.694</td>\n",
       "      <td>25.9</td>\n",
       "      <td>None</td>\n",
       "      <td>6.8</td>\n",
       "      <td>mw</td>\n",
       "      <td>None</td>\n",
       "      <td>1.4</td>\n",
       "      <td>Bohol, Philippines</td>\n",
       "      <td>1</td>\n",
       "      <td>294</td>\n",
       "    </tr>\n",
       "    <tr>\n",
       "      <td>175</td>\n",
       "      <td>1990-02-08 07:46:59.780</td>\n",
       "      <td>9.725</td>\n",
       "      <td>124.625</td>\n",
       "      <td>30.3</td>\n",
       "      <td>None</td>\n",
       "      <td>6.6</td>\n",
       "      <td>mw</td>\n",
       "      <td>None</td>\n",
       "      <td>1.2</td>\n",
       "      <td>Bohol, Philippines</td>\n",
       "      <td>1</td>\n",
       "      <td>294</td>\n",
       "    </tr>\n",
       "    <tr>\n",
       "      <td>179</td>\n",
       "      <td>1990-09-23 20:33:49.730</td>\n",
       "      <td>-6.726</td>\n",
       "      <td>130.373</td>\n",
       "      <td>33</td>\n",
       "      <td>None</td>\n",
       "      <td>6.5</td>\n",
       "      <td>ms</td>\n",
       "      <td>None</td>\n",
       "      <td>1.1</td>\n",
       "      <td>Banda Sea</td>\n",
       "      <td>1</td>\n",
       "      <td>298</td>\n",
       "    </tr>\n",
       "    <tr>\n",
       "      <td>180</td>\n",
       "      <td>1990-09-23 21:13:07.460</td>\n",
       "      <td>33.267</td>\n",
       "      <td>138.643</td>\n",
       "      <td>10</td>\n",
       "      <td>None</td>\n",
       "      <td>6.5</td>\n",
       "      <td>mw</td>\n",
       "      <td>None</td>\n",
       "      <td>1.3</td>\n",
       "      <td>Izu Islands, Japan region</td>\n",
       "      <td>1</td>\n",
       "      <td>298</td>\n",
       "    </tr>\n",
       "    <tr>\n",
       "      <td>202</td>\n",
       "      <td>1994-06-05 01:09:30.150</td>\n",
       "      <td>24.511</td>\n",
       "      <td>121.905</td>\n",
       "      <td>11.4</td>\n",
       "      <td>None</td>\n",
       "      <td>6.4</td>\n",
       "      <td>mwb</td>\n",
       "      <td>None</td>\n",
       "      <td>1.2</td>\n",
       "      <td>Taiwan</td>\n",
       "      <td>1</td>\n",
       "      <td>322</td>\n",
       "    </tr>\n",
       "    <tr>\n",
       "      <td>203</td>\n",
       "      <td>1994-06-05 01:45:02.160</td>\n",
       "      <td>-10.349</td>\n",
       "      <td>113.398</td>\n",
       "      <td>25.9</td>\n",
       "      <td>None</td>\n",
       "      <td>6.1</td>\n",
       "      <td>mw</td>\n",
       "      <td>None</td>\n",
       "      <td>1.3</td>\n",
       "      <td>south of Java, Indonesia</td>\n",
       "      <td>1</td>\n",
       "      <td>322</td>\n",
       "    </tr>\n",
       "    <tr>\n",
       "      <td>232</td>\n",
       "      <td>1996-10-19 14:44:40.790</td>\n",
       "      <td>31.885</td>\n",
       "      <td>131.468</td>\n",
       "      <td>22</td>\n",
       "      <td>None</td>\n",
       "      <td>6.7</td>\n",
       "      <td>mwc</td>\n",
       "      <td>None</td>\n",
       "      <td>1.02</td>\n",
       "      <td>Kyushu, Japan</td>\n",
       "      <td>1</td>\n",
       "      <td>352</td>\n",
       "    </tr>\n",
       "    <tr>\n",
       "      <td>233</td>\n",
       "      <td>1996-10-19 14:53:48.780</td>\n",
       "      <td>-20.412</td>\n",
       "      <td>-178.51</td>\n",
       "      <td>590.8</td>\n",
       "      <td>None</td>\n",
       "      <td>6.9</td>\n",
       "      <td>mwc</td>\n",
       "      <td>None</td>\n",
       "      <td>0.82</td>\n",
       "      <td>Fiji region</td>\n",
       "      <td>1</td>\n",
       "      <td>352</td>\n",
       "    </tr>\n",
       "    <tr>\n",
       "      <td>290</td>\n",
       "      <td>2007-03-25 00:40:01.610</td>\n",
       "      <td>-20.617</td>\n",
       "      <td>169.357</td>\n",
       "      <td>34</td>\n",
       "      <td>25.3</td>\n",
       "      <td>7.1</td>\n",
       "      <td>mwb</td>\n",
       "      <td>None</td>\n",
       "      <td>1</td>\n",
       "      <td>Vanuatu</td>\n",
       "      <td>1</td>\n",
       "      <td>410</td>\n",
       "    </tr>\n",
       "    <tr>\n",
       "      <td>291</td>\n",
       "      <td>2007-03-25 00:41:57.820</td>\n",
       "      <td>37.336</td>\n",
       "      <td>136.588</td>\n",
       "      <td>8</td>\n",
       "      <td>23.9</td>\n",
       "      <td>6.7</td>\n",
       "      <td>mwc</td>\n",
       "      <td>None</td>\n",
       "      <td>0.83</td>\n",
       "      <td>near the west coast of Honshu, Japan</td>\n",
       "      <td>1</td>\n",
       "      <td>410</td>\n",
       "    </tr>\n",
       "    <tr>\n",
       "      <td>318</td>\n",
       "      <td>2009-10-07 22:03:14.470</td>\n",
       "      <td>-13.006</td>\n",
       "      <td>166.51</td>\n",
       "      <td>45</td>\n",
       "      <td>23.2</td>\n",
       "      <td>7.7</td>\n",
       "      <td>mww</td>\n",
       "      <td>None</td>\n",
       "      <td>1.31</td>\n",
       "      <td>Vanuatu</td>\n",
       "      <td>1</td>\n",
       "      <td>437</td>\n",
       "    </tr>\n",
       "    <tr>\n",
       "      <td>319</td>\n",
       "      <td>2009-10-07 22:18:51.240</td>\n",
       "      <td>-12.517</td>\n",
       "      <td>166.382</td>\n",
       "      <td>35</td>\n",
       "      <td>20.3</td>\n",
       "      <td>7.8</td>\n",
       "      <td>mwc</td>\n",
       "      <td>None</td>\n",
       "      <td>0.97</td>\n",
       "      <td>Santa Cruz Islands</td>\n",
       "      <td>1</td>\n",
       "      <td>437</td>\n",
       "    </tr>\n",
       "    <tr>\n",
       "      <td>324</td>\n",
       "      <td>2010-03-11 14:39:43.950</td>\n",
       "      <td>-34.29</td>\n",
       "      <td>-71.891</td>\n",
       "      <td>11</td>\n",
       "      <td>12.5</td>\n",
       "      <td>6.9</td>\n",
       "      <td>mwc</td>\n",
       "      <td>None</td>\n",
       "      <td>0.85</td>\n",
       "      <td>Libertador General Bernardo O'Higgins, Chile</td>\n",
       "      <td>1</td>\n",
       "      <td>442</td>\n",
       "    </tr>\n",
       "    <tr>\n",
       "      <td>325</td>\n",
       "      <td>2010-03-11 14:55:27.510</td>\n",
       "      <td>-34.326</td>\n",
       "      <td>-71.799</td>\n",
       "      <td>18</td>\n",
       "      <td>17.1</td>\n",
       "      <td>7</td>\n",
       "      <td>mwc</td>\n",
       "      <td>None</td>\n",
       "      <td>1.02</td>\n",
       "      <td>Libertador General Bernardo O'Higgins, Chile</td>\n",
       "      <td>1</td>\n",
       "      <td>442</td>\n",
       "    </tr>\n",
       "  </tbody>\n",
       "</table>\n",
       "</div>"
      ],
      "text/plain": [
       "                       DATE LATITUDE LONGITUDE  DEPTH   GAP MAGNITUDE MAGTYPE  \\\n",
       "125 1977-04-20 23:42:50.500    -9.89   160.348     19  None       7.5      ms   \n",
       "126 1977-04-20 23:49:13.100   -9.844   160.822     33  None       7.5      ms   \n",
       "174 1990-02-08 07:15:32.230    9.755   124.694   25.9  None       6.8      mw   \n",
       "175 1990-02-08 07:46:59.780    9.725   124.625   30.3  None       6.6      mw   \n",
       "179 1990-09-23 20:33:49.730   -6.726   130.373     33  None       6.5      ms   \n",
       "180 1990-09-23 21:13:07.460   33.267   138.643     10  None       6.5      mw   \n",
       "202 1994-06-05 01:09:30.150   24.511   121.905   11.4  None       6.4     mwb   \n",
       "203 1994-06-05 01:45:02.160  -10.349   113.398   25.9  None       6.1      mw   \n",
       "232 1996-10-19 14:44:40.790   31.885   131.468     22  None       6.7     mwc   \n",
       "233 1996-10-19 14:53:48.780  -20.412   -178.51  590.8  None       6.9     mwc   \n",
       "290 2007-03-25 00:40:01.610  -20.617   169.357     34  25.3       7.1     mwb   \n",
       "291 2007-03-25 00:41:57.820   37.336   136.588      8  23.9       6.7     mwc   \n",
       "318 2009-10-07 22:03:14.470  -13.006    166.51     45  23.2       7.7     mww   \n",
       "319 2009-10-07 22:18:51.240  -12.517   166.382     35  20.3       7.8     mwc   \n",
       "324 2010-03-11 14:39:43.950   -34.29   -71.891     11  12.5       6.9     mwc   \n",
       "325 2010-03-11 14:55:27.510  -34.326   -71.799     18  17.1         7     mwc   \n",
       "\n",
       "     DMIN   RMS                                         PLACE TSUNAMI  IDX  \n",
       "125  None  None                               Solomon Islands       1  224  \n",
       "126  None  None                               Solomon Islands       1  224  \n",
       "174  None   1.4                            Bohol, Philippines       1  294  \n",
       "175  None   1.2                            Bohol, Philippines       1  294  \n",
       "179  None   1.1                                     Banda Sea       1  298  \n",
       "180  None   1.3                     Izu Islands, Japan region       1  298  \n",
       "202  None   1.2                                        Taiwan       1  322  \n",
       "203  None   1.3                      south of Java, Indonesia       1  322  \n",
       "232  None  1.02                                 Kyushu, Japan       1  352  \n",
       "233  None  0.82                                   Fiji region       1  352  \n",
       "290  None     1                                       Vanuatu       1  410  \n",
       "291  None  0.83          near the west coast of Honshu, Japan       1  410  \n",
       "318  None  1.31                                       Vanuatu       1  437  \n",
       "319  None  0.97                            Santa Cruz Islands       1  437  \n",
       "324  None  0.85  Libertador General Bernardo O'Higgins, Chile       1  442  \n",
       "325  None  1.02  Libertador General Bernardo O'Higgins, Chile       1  442  "
      ]
     },
     "execution_count": 167,
     "metadata": {},
     "output_type": "execute_result"
    }
   ],
   "source": []
  },
  {
   "cell_type": "markdown",
   "metadata": {},
   "source": [
    "Se verifica si se tiene la fecha exacta de los que salieron con 2 terremotos o mas asociados. Descartando de la lista de terremotos que produjeron tsunamis los que no lo hicieron."
   ]
  },
  {
   "cell_type": "code",
   "execution_count": 287,
   "metadata": {
    "scrolled": true
   },
   "outputs": [],
   "source": [
    "anti_drop = []\n",
    "ready = []\n",
    "dupl = matched[matched.duplicated(subset=['IDX'], keep=False)]\n",
    "for idx in dupl.index:\n",
    "    if int(data['MINUTE'].loc[dupl['IDX'].loc[idx]]) == dupl['DATE'].loc[idx].minute:\n",
    "        anti_drop.append(idx)\n",
    "        ready.append(dupl['IDX'].loc[idx])\n",
    "        dupl = dupl.drop(index=idx)\n",
    "        # significa que encontro el asociado a la fecha exacta.\n",
    "for idx, row in dupl[dupl.duplicated(subset=['IDX'])].iterrows():\n",
    "    if len(dupl[dupl['IDX']==row['IDX']])>1:\n",
    "        for idx2, row2 in dupl[dupl['IDX']==row['IDX']].iterrows():\n",
    "            dupl = dupl.drop(index=idx2)\n",
    "            # como no se sabe con exactitud, se conservaran todos aquellos que se tengan.\n",
    "# se descartan los duplicados restantes\n",
    "matched = matched.drop(index=dupl.index)"
   ]
  },
  {
   "cell_type": "markdown",
   "metadata": {},
   "source": [
    "Exportando los terremotos listos"
   ]
  },
  {
   "cell_type": "code",
   "execution_count": 290,
   "metadata": {
    "scrolled": true
   },
   "outputs": [],
   "source": [
    "matched = matched.drop(columns=['IDX'])\n",
    "matched.to_csv('matched.csv', index=False)"
   ]
  },
  {
   "cell_type": "code",
   "execution_count": null,
   "metadata": {},
   "outputs": [],
   "source": []
  }
 ],
 "metadata": {
  "kernelspec": {
   "display_name": "Python 3",
   "language": "python",
   "name": "python3"
  },
  "language_info": {
   "codemirror_mode": {
    "name": "ipython",
    "version": 3
   },
   "file_extension": ".py",
   "mimetype": "text/x-python",
   "name": "python",
   "nbconvert_exporter": "python",
   "pygments_lexer": "ipython3",
   "version": "3.7.3"
  }
 },
 "nbformat": 4,
 "nbformat_minor": 2
}
