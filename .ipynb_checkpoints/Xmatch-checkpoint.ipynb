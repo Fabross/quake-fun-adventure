{
 "cells": [
  {
   "cell_type": "markdown",
   "metadata": {},
   "source": [
    "- Instalación de biblioteca COMCAT: https://github.com/usgs/libcomcat\n",
    "\n",
    "- Documentación: http://usgs.github.io/libcomcat/apidoc/libcomcat.search.html"
   ]
  },
  {
   "cell_type": "code",
   "execution_count": 1,
   "metadata": {},
   "outputs": [],
   "source": [
    "from libcomcat.search import search,count,get_event_by_id\n",
    "import datetime\n",
    "import os.path\n",
    "import pandas as pd\n"
   ]
  },
  {
   "cell_type": "code",
   "execution_count": 2,
   "metadata": {
    "scrolled": true
   },
   "outputs": [
    {
     "name": "stdout",
     "output_type": "stream",
     "text": [
      "<class 'pandas.core.frame.DataFrame'>\n",
      "RangeIndex: 104 entries, 0 to 103\n",
      "Data columns (total 9 columns):\n",
      "YEAR                 104 non-null int64\n",
      "MONTH                104 non-null int64\n",
      "DAY                  104 non-null int64\n",
      "CAUSE_CODE           104 non-null float64\n",
      "LATITUDE             104 non-null float64\n",
      "LONGITUDE            104 non-null float64\n",
      "PRIMARY_MAGNITUDE    104 non-null float64\n",
      "COUNTRY              104 non-null object\n",
      "EVENT_VALIDITY       104 non-null int64\n",
      "dtypes: float64(4), int64(4), object(1)\n",
      "memory usage: 7.4+ KB\n"
     ]
    }
   ],
   "source": [
    "data = pd.read_csv('chiledf.csv').astype({'MONTH': 'int64', 'DAY': 'int64'})\n",
    "data.info()"
   ]
  },
  {
   "cell_type": "markdown",
   "metadata": {},
   "source": [
    "probando a sacar datos de tsunami *i* del catalogo, luego cuando se haga bien hay que iterar sobre el df. Si regresa mas de un resultado aplicar su promedio (?)"
   ]
  },
  {
   "cell_type": "code",
   "execution_count": 3,
   "metadata": {},
   "outputs": [
    {
     "ename": "NameError",
     "evalue": "name 'chiledf' is not defined",
     "output_type": "error",
     "traceback": [
      "\u001b[0;31m---------------------------------------------------------------------------\u001b[0m",
      "\u001b[0;31mNameError\u001b[0m                                 Traceback (most recent call last)",
      "\u001b[0;32m<ipython-input-3-8d3cf8801d89>\u001b[0m in \u001b[0;36m<module>\u001b[0;34m\u001b[0m\n\u001b[1;32m      4\u001b[0m eventlist = search(starttime=date-datetime.timedelta(days=1),\n\u001b[1;32m      5\u001b[0m                    \u001b[0mendtime\u001b[0m\u001b[0;34m=\u001b[0m\u001b[0mdate\u001b[0m\u001b[0;34m+\u001b[0m\u001b[0mdatetime\u001b[0m\u001b[0;34m.\u001b[0m\u001b[0mtimedelta\u001b[0m\u001b[0;34m(\u001b[0m\u001b[0mdays\u001b[0m\u001b[0;34m=\u001b[0m\u001b[0;36m1\u001b[0m\u001b[0;34m)\u001b[0m\u001b[0;34m,\u001b[0m\u001b[0;34m\u001b[0m\u001b[0;34m\u001b[0m\u001b[0m\n\u001b[0;32m----> 6\u001b[0;31m                    \u001b[0mminmagnitude\u001b[0m\u001b[0;34m=\u001b[0m\u001b[0mchiledf\u001b[0m\u001b[0;34m[\u001b[0m\u001b[0;34m'PRIMARY_MAGNITUDE'\u001b[0m\u001b[0;34m]\u001b[0m\u001b[0;34m[\u001b[0m\u001b[0mi\u001b[0m\u001b[0;34m]\u001b[0m\u001b[0;34m,\u001b[0m\u001b[0;34m\u001b[0m\u001b[0;34m\u001b[0m\u001b[0m\n\u001b[0m\u001b[1;32m      7\u001b[0m                    \u001b[0mlatitude\u001b[0m\u001b[0;34m=\u001b[0m\u001b[0mdata\u001b[0m\u001b[0;34m[\u001b[0m\u001b[0;34m'LATITUDE'\u001b[0m\u001b[0;34m]\u001b[0m\u001b[0;34m[\u001b[0m\u001b[0mi\u001b[0m\u001b[0;34m]\u001b[0m\u001b[0;34m,\u001b[0m\u001b[0;34m\u001b[0m\u001b[0;34m\u001b[0m\u001b[0m\n\u001b[1;32m      8\u001b[0m                    \u001b[0mlongitude\u001b[0m\u001b[0;34m=\u001b[0m\u001b[0mdata\u001b[0m\u001b[0;34m[\u001b[0m\u001b[0;34m'LONGITUDE'\u001b[0m\u001b[0;34m]\u001b[0m\u001b[0;34m[\u001b[0m\u001b[0mi\u001b[0m\u001b[0;34m]\u001b[0m\u001b[0;34m,\u001b[0m\u001b[0;34m\u001b[0m\u001b[0;34m\u001b[0m\u001b[0m\n",
      "\u001b[0;31mNameError\u001b[0m: name 'chiledf' is not defined"
     ]
    }
   ],
   "source": [
    "i = 100\n",
    "date = datetime.datetime(data['YEAR'][i],data['MONTH'][i],data['DAY'][i])\n",
    "time_str = str(date.year)+'-'+str(date.month)+'-'+str(date.day)\n",
    "eventlist = search(starttime=date-datetime.timedelta(days=1),\n",
    "                   endtime=date+datetime.timedelta(days=1),\n",
    "                   minmagnitude=chiledf['PRIMARY_MAGNITUDE'][i],\n",
    "                   latitude=data['LATITUDE'][i],\n",
    "                   longitude=data['LONGITUDE'][i],\n",
    "                   maxradiuskm=100)\n"
   ]
  },
  {
   "cell_type": "code",
   "execution_count": 4,
   "metadata": {},
   "outputs": [
    {
     "ename": "NameError",
     "evalue": "name 'eventlist' is not defined",
     "output_type": "error",
     "traceback": [
      "\u001b[0;31m---------------------------------------------------------------------------\u001b[0m",
      "\u001b[0;31mNameError\u001b[0m                                 Traceback (most recent call last)",
      "\u001b[0;32m<ipython-input-4-bdf317bf1b37>\u001b[0m in \u001b[0;36m<module>\u001b[0;34m\u001b[0m\n\u001b[0;32m----> 1\u001b[0;31m \u001b[0mdisplay\u001b[0m\u001b[0;34m(\u001b[0m\u001b[0meventlist\u001b[0m\u001b[0;34m)\u001b[0m\u001b[0;34m\u001b[0m\u001b[0;34m\u001b[0m\u001b[0m\n\u001b[0m",
      "\u001b[0;31mNameError\u001b[0m: name 'eventlist' is not defined"
     ]
    }
   ],
   "source": [
    "display(eventlist)"
   ]
  },
  {
   "cell_type": "code",
   "execution_count": 163,
   "metadata": {},
   "outputs": [],
   "source": [
    "for event in eventlist:\n",
    "    depth = event.depth\n",
    "    mag = event['mag']\n",
    "    gap = event['gap']\n",
    "    magType = event['magType']\n",
    "    dmin = event['dmin']\n",
    "    rms = event['rms']\n",
    "    horizontalError"
   ]
  },
  {
   "cell_type": "code",
   "execution_count": 166,
   "metadata": {},
   "outputs": [
    {
     "data": {
      "text/plain": [
       "['mag',\n",
       " 'place',\n",
       " 'time',\n",
       " 'updated',\n",
       " 'tz',\n",
       " 'url',\n",
       " 'detail',\n",
       " 'felt',\n",
       " 'cdi',\n",
       " 'mmi',\n",
       " 'alert',\n",
       " 'status',\n",
       " 'tsunami',\n",
       " 'sig',\n",
       " 'net',\n",
       " 'code',\n",
       " 'ids',\n",
       " 'sources',\n",
       " 'types',\n",
       " 'nst',\n",
       " 'dmin',\n",
       " 'rms',\n",
       " 'gap',\n",
       " 'magType',\n",
       " 'type',\n",
       " 'title']"
      ]
     },
     "execution_count": 166,
     "metadata": {},
     "output_type": "execute_result"
    }
   ],
   "source": [
    "event.properties"
   ]
  },
  {
   "cell_type": "code",
   "execution_count": 138,
   "metadata": {},
   "outputs": [
    {
     "data": {
      "text/plain": [
       "YEAR                  2015\n",
       "MONTH                   11\n",
       "DAY                     11\n",
       "CAUSE_CODE               1\n",
       "LATITUDE            -29.46\n",
       "LONGITUDE           -72.12\n",
       "PRIMARY_MAGNITUDE      6.9\n",
       "COUNTRY              CHILE\n",
       "EVENT_VALIDITY           4\n",
       "Name: 100, dtype: object"
      ]
     },
     "execution_count": 138,
     "metadata": {},
     "output_type": "execute_result"
    }
   ],
   "source": [
    "chiledf.iloc[i]"
   ]
  },
  {
   "cell_type": "code",
   "execution_count": 132,
   "metadata": {},
   "outputs": [
    {
     "data": {
      "text/html": [
       "<div>\n",
       "<style scoped>\n",
       "    .dataframe tbody tr th:only-of-type {\n",
       "        vertical-align: middle;\n",
       "    }\n",
       "\n",
       "    .dataframe tbody tr th {\n",
       "        vertical-align: top;\n",
       "    }\n",
       "\n",
       "    .dataframe thead th {\n",
       "        text-align: right;\n",
       "    }\n",
       "</style>\n",
       "<table border=\"1\" class=\"dataframe\">\n",
       "  <thead>\n",
       "    <tr style=\"text-align: right;\">\n",
       "      <th></th>\n",
       "      <th>YEAR</th>\n",
       "      <th>MONTH</th>\n",
       "      <th>DAY</th>\n",
       "      <th>CAUSE_CODE</th>\n",
       "      <th>LATITUDE</th>\n",
       "      <th>LONGITUDE</th>\n",
       "      <th>PRIMARY_MAGNITUDE</th>\n",
       "      <th>COUNTRY</th>\n",
       "      <th>EVENT_VALIDITY</th>\n",
       "    </tr>\n",
       "  </thead>\n",
       "  <tbody>\n",
       "    <tr>\n",
       "      <td>0</td>\n",
       "      <td>1562</td>\n",
       "      <td>10</td>\n",
       "      <td>28</td>\n",
       "      <td>1.0</td>\n",
       "      <td>-38.70</td>\n",
       "      <td>-73.50</td>\n",
       "      <td>8.0</td>\n",
       "      <td>CHILE</td>\n",
       "      <td>3</td>\n",
       "    </tr>\n",
       "    <tr>\n",
       "      <td>1</td>\n",
       "      <td>1570</td>\n",
       "      <td>2</td>\n",
       "      <td>8</td>\n",
       "      <td>1.0</td>\n",
       "      <td>-36.75</td>\n",
       "      <td>-73.00</td>\n",
       "      <td>8.3</td>\n",
       "      <td>CHILE</td>\n",
       "      <td>3</td>\n",
       "    </tr>\n",
       "    <tr>\n",
       "      <td>2</td>\n",
       "      <td>1575</td>\n",
       "      <td>12</td>\n",
       "      <td>16</td>\n",
       "      <td>1.0</td>\n",
       "      <td>-39.80</td>\n",
       "      <td>-73.20</td>\n",
       "      <td>8.5</td>\n",
       "      <td>CHILE</td>\n",
       "      <td>3</td>\n",
       "    </tr>\n",
       "    <tr>\n",
       "      <td>3</td>\n",
       "      <td>1615</td>\n",
       "      <td>9</td>\n",
       "      <td>16</td>\n",
       "      <td>1.0</td>\n",
       "      <td>-18.50</td>\n",
       "      <td>-70.35</td>\n",
       "      <td>7.5</td>\n",
       "      <td>CHILE</td>\n",
       "      <td>2</td>\n",
       "    </tr>\n",
       "    <tr>\n",
       "      <td>4</td>\n",
       "      <td>1657</td>\n",
       "      <td>3</td>\n",
       "      <td>15</td>\n",
       "      <td>1.0</td>\n",
       "      <td>-36.83</td>\n",
       "      <td>-73.03</td>\n",
       "      <td>8.0</td>\n",
       "      <td>CHILE</td>\n",
       "      <td>3</td>\n",
       "    </tr>\n",
       "    <tr>\n",
       "      <td>...</td>\n",
       "      <td>...</td>\n",
       "      <td>...</td>\n",
       "      <td>...</td>\n",
       "      <td>...</td>\n",
       "      <td>...</td>\n",
       "      <td>...</td>\n",
       "      <td>...</td>\n",
       "      <td>...</td>\n",
       "      <td>...</td>\n",
       "    </tr>\n",
       "    <tr>\n",
       "      <td>99</td>\n",
       "      <td>2015</td>\n",
       "      <td>9</td>\n",
       "      <td>16</td>\n",
       "      <td>1.0</td>\n",
       "      <td>-31573.00</td>\n",
       "      <td>-71674.00</td>\n",
       "      <td>8.3</td>\n",
       "      <td>CHILE</td>\n",
       "      <td>4</td>\n",
       "    </tr>\n",
       "    <tr>\n",
       "      <td>100</td>\n",
       "      <td>2015</td>\n",
       "      <td>11</td>\n",
       "      <td>11</td>\n",
       "      <td>1.0</td>\n",
       "      <td>-29.46</td>\n",
       "      <td>-72.12</td>\n",
       "      <td>6.9</td>\n",
       "      <td>CHILE</td>\n",
       "      <td>4</td>\n",
       "    </tr>\n",
       "    <tr>\n",
       "      <td>101</td>\n",
       "      <td>2016</td>\n",
       "      <td>12</td>\n",
       "      <td>25</td>\n",
       "      <td>1.0</td>\n",
       "      <td>-43517.00</td>\n",
       "      <td>-74391.00</td>\n",
       "      <td>7.6</td>\n",
       "      <td>CHILE</td>\n",
       "      <td>4</td>\n",
       "    </tr>\n",
       "    <tr>\n",
       "      <td>102</td>\n",
       "      <td>2017</td>\n",
       "      <td>4</td>\n",
       "      <td>24</td>\n",
       "      <td>1.0</td>\n",
       "      <td>-33073.00</td>\n",
       "      <td>-72051.00</td>\n",
       "      <td>6.9</td>\n",
       "      <td>CHILE</td>\n",
       "      <td>4</td>\n",
       "    </tr>\n",
       "    <tr>\n",
       "      <td>103</td>\n",
       "      <td>2019</td>\n",
       "      <td>6</td>\n",
       "      <td>14</td>\n",
       "      <td>1.0</td>\n",
       "      <td>-30056.00</td>\n",
       "      <td>-72082.00</td>\n",
       "      <td>6.4</td>\n",
       "      <td>CHILE</td>\n",
       "      <td>4</td>\n",
       "    </tr>\n",
       "  </tbody>\n",
       "</table>\n",
       "<p>104 rows × 9 columns</p>\n",
       "</div>"
      ],
      "text/plain": [
       "     YEAR  MONTH  DAY  CAUSE_CODE  LATITUDE  LONGITUDE  PRIMARY_MAGNITUDE  \\\n",
       "0    1562     10   28         1.0    -38.70     -73.50                8.0   \n",
       "1    1570      2    8         1.0    -36.75     -73.00                8.3   \n",
       "2    1575     12   16         1.0    -39.80     -73.20                8.5   \n",
       "3    1615      9   16         1.0    -18.50     -70.35                7.5   \n",
       "4    1657      3   15         1.0    -36.83     -73.03                8.0   \n",
       "..    ...    ...  ...         ...       ...        ...                ...   \n",
       "99   2015      9   16         1.0 -31573.00  -71674.00                8.3   \n",
       "100  2015     11   11         1.0    -29.46     -72.12                6.9   \n",
       "101  2016     12   25         1.0 -43517.00  -74391.00                7.6   \n",
       "102  2017      4   24         1.0 -33073.00  -72051.00                6.9   \n",
       "103  2019      6   14         1.0 -30056.00  -72082.00                6.4   \n",
       "\n",
       "    COUNTRY  EVENT_VALIDITY  \n",
       "0     CHILE               3  \n",
       "1     CHILE               3  \n",
       "2     CHILE               3  \n",
       "3     CHILE               2  \n",
       "4     CHILE               3  \n",
       "..      ...             ...  \n",
       "99    CHILE               4  \n",
       "100   CHILE               4  \n",
       "101   CHILE               4  \n",
       "102   CHILE               4  \n",
       "103   CHILE               4  \n",
       "\n",
       "[104 rows x 9 columns]"
      ]
     },
     "execution_count": 132,
     "metadata": {},
     "output_type": "execute_result"
    }
   ],
   "source": [
    "data"
   ]
  },
  {
   "cell_type": "code",
   "execution_count": null,
   "metadata": {},
   "outputs": [],
   "source": []
  }
 ],
 "metadata": {
  "kernelspec": {
   "display_name": "Python 3",
   "language": "python",
   "name": "python3"
  },
  "language_info": {
   "codemirror_mode": {
    "name": "ipython",
    "version": 3
   },
   "file_extension": ".py",
   "mimetype": "text/x-python",
   "name": "python",
   "nbconvert_exporter": "python",
   "pygments_lexer": "ipython3",
   "version": "3.7.3"
  }
 },
 "nbformat": 4,
 "nbformat_minor": 2
}
